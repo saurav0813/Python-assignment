{
 "cells": [
  {
   "cell_type": "markdown",
   "metadata": {},
   "source": [
    "For Loop :-\n",
    "\n",
    "1.Write a Python program to print numbers from 1 to 10 using a for loop.\n"
   ]
  },
  {
   "cell_type": "code",
   "execution_count": 38,
   "metadata": {},
   "outputs": [
    {
     "name": "stdout",
     "output_type": "stream",
     "text": [
      "1 2 3 4 5 6 7 8 9 10 "
     ]
    }
   ],
   "source": [
    "def numbers():\n",
    "    for i in range(1,11):\n",
    "        print(i,end=\" \")\n",
    "numbers()"
   ]
  },
  {
   "cell_type": "markdown",
   "metadata": {},
   "source": [
    "2.Explain the difference between a for loop and a while loop in Python.\n",
    "\n",
    "for loop:\n",
    "\n",
    "a.it iterates over the sequence(like list,tuple,set,dictionary etc..) or other iterable object.\n",
    "\n",
    "b.it's used when the number of iteration is known beforehand or is predetermined by the sequence.\n",
    "\n",
    "c.Example: iterating over range of numbers or item in list.\n",
    "\n",
    "Syntex:\n",
    "for variable in sequence:\n",
    "\n",
    "example:\n",
    "for number in range(10):\n",
    "    print(number)\n",
    "\n",
    "d.Automatically terminates after iterating over all elements in sequence.\n",
    "\n",
    "e. The loop variable take each value from the sequence in turn.\n",
    "\n",
    "while loop:\n",
    "\n",
    "a.It repeats block of code as long as specified condition remains True.\n",
    "\n",
    "b.It's used when the number of iteration is not known in advance and depends on dynamic condition.\n",
    "\n",
    "c.Example: Continuosly reading input until a specific value entered.\n",
    "\n",
    "Syntex:\n",
    "while Condition:\n",
    "\n",
    "example:\n",
    "i = 0\n",
    "while i<5:\n",
    "    print(i)\n",
    "    i+=1\n",
    "\n",
    "d.It terminates when the condition evaluates to False.\n",
    "\n",
    "e.Requires careful management of the condition to avoid infinite loops.\n"
   ]
  },
  {
   "cell_type": "markdown",
   "metadata": {},
   "source": [
    "3.Write a Python program to calculate the sum of all numbers from 1 to 100 using a for loop."
   ]
  },
  {
   "cell_type": "code",
   "execution_count": 6,
   "metadata": {},
   "outputs": [
    {
     "name": "stdout",
     "output_type": "stream",
     "text": [
      "5050\n"
     ]
    }
   ],
   "source": [
    "def sum_of_numbers():\n",
    "    sum = 0\n",
    "    for num in range(1,101):\n",
    "        sum+=num\n",
    "    return sum\n",
    "print(sum_of_numbers())"
   ]
  },
  {
   "cell_type": "markdown",
   "metadata": {},
   "source": [
    "4.How do you iterate through a list using a for loop in Python?"
   ]
  },
  {
   "cell_type": "code",
   "execution_count": 37,
   "metadata": {},
   "outputs": [
    {
     "name": "stdout",
     "output_type": "stream",
     "text": [
      "apple\n",
      "banana\n",
      "kiwi\n"
     ]
    }
   ],
   "source": [
    "fruits = [\"apple\",\"banana\",\"kiwi\"]\n",
    "for fruit in fruits:\n",
    "    print(fruit)\n",
    "# the variable fruit takes on the value of each element in the fruits list during each\n",
    "# iteration of loop."
   ]
  },
  {
   "cell_type": "markdown",
   "metadata": {},
   "source": [
    "5.Write a Python program to find the product of all elements in a list using a for loop."
   ]
  },
  {
   "cell_type": "code",
   "execution_count": 8,
   "metadata": {},
   "outputs": [
    {
     "name": "stdout",
     "output_type": "stream",
     "text": [
      "6\n"
     ]
    }
   ],
   "source": [
    "def product_of_lst_element(lst):\n",
    "    product = 1\n",
    "    for num in lst:\n",
    "        product*=num\n",
    "    return product\n",
    "lst = [1,2,3]\n",
    "print(product_of_lst_element(lst))"
   ]
  },
  {
   "cell_type": "markdown",
   "metadata": {},
   "source": [
    "6.Create a Python program that prints all even numbers from 1 to 20 using a for loop."
   ]
  },
  {
   "cell_type": "code",
   "execution_count": 36,
   "metadata": {},
   "outputs": [
    {
     "name": "stdout",
     "output_type": "stream",
     "text": [
      "2\n",
      "4\n",
      "6\n",
      "8\n",
      "10\n",
      "12\n",
      "14\n",
      "16\n",
      "18\n",
      "20\n"
     ]
    }
   ],
   "source": [
    "def all_even_number():\n",
    "    for even in range(1,21):\n",
    "        if even%2==0:\n",
    "            print(even)\n",
    "all_even_number()"
   ]
  },
  {
   "cell_type": "markdown",
   "metadata": {},
   "source": [
    "7.Write a Python program that calculates the factorial of a number using a for loop."
   ]
  },
  {
   "cell_type": "code",
   "execution_count": 35,
   "metadata": {},
   "outputs": [
    {
     "name": "stdout",
     "output_type": "stream",
     "text": [
      "factorial of number is: 120\n"
     ]
    }
   ],
   "source": [
    "def factorial_num(num):\n",
    "    factorial = 1\n",
    "    for i in range(num,0,-1):\n",
    "        factorial*=i\n",
    "    return factorial\n",
    "print(\"factorial of number is:\",factorial_num(5))\n"
   ]
  },
  {
   "cell_type": "markdown",
   "metadata": {},
   "source": [
    "8.How can you iterate through the characters of a string using a for loop in Python?"
   ]
  },
  {
   "cell_type": "code",
   "execution_count": 32,
   "metadata": {},
   "outputs": [
    {
     "name": "stdout",
     "output_type": "stream",
     "text": [
      "p\n",
      "w\n",
      "s\n",
      "k\n",
      "i\n",
      "l\n",
      "l\n",
      "s\n"
     ]
    }
   ],
   "source": [
    "def iterate(input_str):\n",
    "    for char in input_str:\n",
    "        print(char)\n",
    "iterate('pwskills')\n",
    "# the variable char take on the value of each character in the string 'pwskills' during each\n",
    "# iteration of the loop."
   ]
  },
  {
   "cell_type": "markdown",
   "metadata": {},
   "source": [
    "9.Write a Python program to find the largest number in a list using a for loop."
   ]
  },
  {
   "cell_type": "code",
   "execution_count": 17,
   "metadata": {},
   "outputs": [
    {
     "name": "stdout",
     "output_type": "stream",
     "text": [
      "Largest number in list is: 5\n"
     ]
    }
   ],
   "source": [
    "def largest_num_in_list(lst):\n",
    "    largest_num = lst[0]\n",
    "    for num in lst:\n",
    "        if num>largest_num:\n",
    "            largest_num = num\n",
    "    return largest_num\n",
    "print(\"Largest number in list is:\",largest_num_in_list([1,5,3,2,4]))"
   ]
  },
  {
   "cell_type": "markdown",
   "metadata": {},
   "source": [
    "10.Create a Python program that prints the Fibonacci sequence up to a specified limit using a for loop."
   ]
  },
  {
   "cell_type": "code",
   "execution_count": 31,
   "metadata": {},
   "outputs": [
    {
     "name": "stdout",
     "output_type": "stream",
     "text": [
      "1\n",
      "1\n",
      "2\n",
      "3\n",
      "5\n",
      "8\n",
      "13\n",
      "21\n",
      "34\n",
      "55\n",
      "89\n"
     ]
    }
   ],
   "source": [
    "def Fibonacci_Sequence():\n",
    "    n1 = 1\n",
    "    n2 = 1\n",
    "    print(n1)\n",
    "    print(n2)\n",
    "    for num in range(2,11):\n",
    "        n3 = n1+n2\n",
    "        print(n3)\n",
    "        n1,n2 = n2,n3\n",
    "    \n",
    "Fibonacci_Sequence()"
   ]
  },
  {
   "cell_type": "markdown",
   "metadata": {},
   "source": [
    "11.Write a Python program to count the number of vowels in a given string using a for loop."
   ]
  },
  {
   "cell_type": "code",
   "execution_count": 30,
   "metadata": {},
   "outputs": [
    {
     "name": "stdout",
     "output_type": "stream",
     "text": [
      "Count of vowel in given string is: 4\n"
     ]
    }
   ],
   "source": [
    "def count_str_vowels(input_str):\n",
    "    vowel_count = 0\n",
    "    for vowel in input_str:\n",
    "        if vowel.lower() in 'aeiou':\n",
    "            vowel_count+=1\n",
    "    return vowel_count\n",
    "print(\"Count of vowel in given string is:\",count_str_vowels(\"Intelligent\"))"
   ]
  },
  {
   "cell_type": "markdown",
   "metadata": {},
   "source": [
    "12.Create a Python program that generates a multiplication table for a given number using a for loop."
   ]
  },
  {
   "cell_type": "code",
   "execution_count": 29,
   "metadata": {},
   "outputs": [
    {
     "name": "stdout",
     "output_type": "stream",
     "text": [
      "5 x 1 = 5\n",
      "5 x 2 = 10\n",
      "5 x 3 = 15\n",
      "5 x 4 = 20\n",
      "5 x 5 = 25\n",
      "5 x 6 = 30\n",
      "5 x 7 = 35\n",
      "5 x 8 = 40\n",
      "5 x 9 = 45\n",
      "5 x 10 = 50\n"
     ]
    }
   ],
   "source": [
    "def multiplication_table(num):\n",
    "    for i in range(1,11):\n",
    "        print(num,'x',i,'=',num*i)\n",
    "multiplication_table(5)"
   ]
  },
  {
   "cell_type": "markdown",
   "metadata": {},
   "source": [
    "13.Write a Python program to reverse a list using a for loop."
   ]
  },
  {
   "cell_type": "code",
   "execution_count": 26,
   "metadata": {},
   "outputs": [
    {
     "name": "stdout",
     "output_type": "stream",
     "text": [
      "Reverse List of original list is: [5, 4, 3, 2, 1]\n"
     ]
    }
   ],
   "source": [
    "def reverse_list(lst):\n",
    "    reverse_lst = []\n",
    "    for i in range(len(lst)-1,-1,-1):\n",
    "        reverse_lst.append(lst[i])\n",
    "    return reverse_lst\n",
    "print(\"Reverse List of original list is:\",reverse_list([1,2,3,4,5]))"
   ]
  },
  {
   "cell_type": "markdown",
   "metadata": {},
   "source": [
    "14.Write a Python program to find the common elements between two lists using a for loop."
   ]
  },
  {
   "cell_type": "code",
   "execution_count": 39,
   "metadata": {},
   "outputs": [
    {
     "name": "stdout",
     "output_type": "stream",
     "text": [
      "4\n",
      "5\n"
     ]
    }
   ],
   "source": [
    "def common_lst_elements(lst1,lst2):\n",
    "    for i in lst1:\n",
    "        if i in lst2:\n",
    "            print(i)\n",
    "common_lst_elements([1,2,3,4,5],[4,5,6,7,8])"
   ]
  },
  {
   "cell_type": "markdown",
   "metadata": {},
   "source": [
    "15.Explain how to use a for loop to iterate through the keys and values of a dictionary in Python."
   ]
  },
  {
   "cell_type": "code",
   "execution_count": null,
   "metadata": {},
   "outputs": [],
   "source": [
    "\n",
    "# To iterate through both the keys and values of a dictionary in Python using a for loop, you can use the items() method of the dictionary.\n",
    "#  This method returns a view object that displays a list of a dictionary's key-value tuple pairs. Here’s how you can modify your code to achieve this:\n",
    "\n",
    "# python\n",
    "\n",
    "d = {'saurav': 89, 'ujjwal': 97}\n",
    "\n",
    "for key, value in d.items():\n",
    "    print(f\"Key: {key}, Value: {value}\")\n",
    "\n",
    "# In this example:\n",
    "\n",
    "# d.items() returns an iterable view of the dictionary’s items as tuples of key-value pairs.\n",
    "# The for loop then unpacks each tuple into key and value variables.\n",
    "# Inside the loop, you can use these variables to access and print both the keys and values.\n",
    "# This way, you get both the key and its corresponding value in each iteration of the loop."
   ]
  },
  {
   "cell_type": "markdown",
   "metadata": {},
   "source": [
    "16.Write a Python program to find the GCD (Greatest Common Divisor) of two numbers using a for loop."
   ]
  },
  {
   "cell_type": "code",
   "execution_count": 12,
   "metadata": {},
   "outputs": [
    {
     "name": "stdout",
     "output_type": "stream",
     "text": [
      "Gcd of two numbers 17 and 34 is 17\n"
     ]
    }
   ],
   "source": [
    "def gcd(n1,n2):\n",
    "    min_num = min(n1,n2) #gcd can't be greater than minimum number\n",
    "    gcd = 1\n",
    "    for n in range(1,min_num+1):\n",
    "        if n1%n==0 and n2%n==0:\n",
    "            gcd = n\n",
    "    return f\"Gcd of two numbers {n1} and {n2} is {gcd}\"\n",
    "print(gcd(17,34))"
   ]
  },
  {
   "cell_type": "markdown",
   "metadata": {},
   "source": [
    "17.Create a Python program that checks if a string is a palindrome using a for loop."
   ]
  },
  {
   "cell_type": "code",
   "execution_count": 15,
   "metadata": {},
   "outputs": [
    {
     "name": "stdout",
     "output_type": "stream",
     "text": [
      "is given string palindrome True\n"
     ]
    }
   ],
   "source": [
    "def is_palindrome(input_str):\n",
    "    reverse_str = ''\n",
    "    for char in input_str:\n",
    "        reverse_str=char+reverse_str\n",
    "    if reverse_str == input_str:\n",
    "        return True\n",
    "    return False\n",
    "print(f\"is given string palindrome {is_palindrome(\"nitin\")}\")\n"
   ]
  },
  {
   "cell_type": "markdown",
   "metadata": {},
   "source": [
    "18.Write a Python program to remove duplicates from a list using a for loop."
   ]
  },
  {
   "cell_type": "code",
   "execution_count": 21,
   "metadata": {},
   "outputs": [
    {
     "name": "stdout",
     "output_type": "stream",
     "text": [
      "[1, 1, 2, 3, 3, 3, 4, 5, 6, 6]\n",
      "[1, 2, 3, 4, 5, 6]\n"
     ]
    }
   ],
   "source": [
    "def del_duplicate(lst):\n",
    "    for i in lst:\n",
    "        if lst.count(i)>=2:\n",
    "            lst.remove(i)\n",
    "    return lst\n",
    "\n",
    "lst = [1,1,2,3,3,3,4,5,6,6]\n",
    "\n",
    "print(lst)\n",
    "print(del_duplicate(lst))\n",
    "        "
   ]
  },
  {
   "cell_type": "markdown",
   "metadata": {},
   "source": [
    "19.Create a Python program that counts the number of words in a sentence using a for loop"
   ]
  },
  {
   "cell_type": "code",
   "execution_count": 24,
   "metadata": {},
   "outputs": [
    {
     "name": "stdout",
     "output_type": "stream",
     "text": [
      "count of words in sentence are 5\n"
     ]
    }
   ],
   "source": [
    "def count_words(sentence):\n",
    "    count = 0\n",
    "    for word in sentence.split():\n",
    "        count+=1\n",
    "    return count\n",
    "print(f\"count of words in sentence are {count_words(\"this is my first class\")}\")\n"
   ]
  },
  {
   "cell_type": "markdown",
   "metadata": {},
   "source": [
    "20..Write a Python program to find the sum of all odd numbers from 1 to 50 using a for loop"
   ]
  },
  {
   "cell_type": "code",
   "execution_count": 25,
   "metadata": {},
   "outputs": [
    {
     "name": "stdout",
     "output_type": "stream",
     "text": [
      "sum of odd numbers from 1 to 50 is 625\n"
     ]
    }
   ],
   "source": [
    "def sum_odd():\n",
    "    sum_of_odd_num = 0\n",
    "    for num in range(1,50):\n",
    "        if num%2!=0:\n",
    "            sum_of_odd_num+=num\n",
    "    return sum_of_odd_num\n",
    "print(f\"sum of odd numbers from 1 to 50 is {sum_odd()}\")\n"
   ]
  },
  {
   "cell_type": "markdown",
   "metadata": {},
   "source": [
    "21.Write a Python program that checks if a given year is a leap year using a for loop."
   ]
  },
  {
   "cell_type": "code",
   "execution_count": 31,
   "metadata": {},
   "outputs": [
    {
     "name": "stdout",
     "output_type": "stream",
     "text": [
      "1900 is not a leap year\n",
      "2024 is a leap year\n"
     ]
    }
   ],
   "source": [
    "def check_leap(year):\n",
    "    years_to_check = [year]\n",
    "    for y in years_to_check:\n",
    "        if (y%4==0 and y%100!=0) or (y%400==0):\n",
    "            return f\"{y} is a leap year\"\n",
    "        return f\"{y} is not a leap year\"\n",
    "print(check_leap(1900))\n",
    "print(check_leap(2024))\n",
    "    "
   ]
  },
  {
   "cell_type": "markdown",
   "metadata": {},
   "source": [
    "22.Create a Python program that calculates the square root of a number using a for loop."
   ]
  },
  {
   "cell_type": "code",
   "execution_count": 36,
   "metadata": {},
   "outputs": [
    {
     "name": "stdout",
     "output_type": "stream",
     "text": [
      "square root of number is 2.2\n"
     ]
    }
   ],
   "source": [
    "def square_root(num):\n",
    "    numbers = [num]\n",
    "    for num in numbers:\n",
    "        sq_root = num**0.5\n",
    "    return f\"square root of number is {sq_root:.1f}\"\n",
    "print(square_root(5))"
   ]
  },
  {
   "cell_type": "markdown",
   "metadata": {},
   "source": [
    "23.Write a Python program to find the LCM (Least Common Multiple) of two numbers using a for loop."
   ]
  },
  {
   "cell_type": "code",
   "execution_count": 42,
   "metadata": {},
   "outputs": [
    {
     "name": "stdout",
     "output_type": "stream",
     "text": [
      "The LCM of 12 and 15 is 60\n"
     ]
    }
   ],
   "source": [
    "def lcm(a,b):\n",
    "    larger = max(a,b)\n",
    "    for mul in range(larger,(a*b)+1,larger):\n",
    "        if mul%a==0 and mul%b ==0:\n",
    "            return mul\n",
    "print(f\"The LCM of {12} and {15} is {lcm(12,15)}\")"
   ]
  },
  {
   "cell_type": "markdown",
   "metadata": {},
   "source": [
    "If else :\n",
    "\n",
    "\n",
    "1.Write a Python program to check if a number is positive, negative, or zero using an if-else statement.\n"
   ]
  },
  {
   "cell_type": "code",
   "execution_count": 44,
   "metadata": {},
   "outputs": [
    {
     "name": "stdout",
     "output_type": "stream",
     "text": [
      "0 is zero.\n",
      "2 is positive\n",
      "-2 is negative\n"
     ]
    }
   ],
   "source": [
    "def check_number(num):\n",
    "    if num>0:\n",
    "        return f\"{num} is positive\"\n",
    "    else:\n",
    "        if num<0:\n",
    "            return f\"{num} is negative\"\n",
    "        return f\"{num} is zero.\"\n",
    "print(check_number(0))\n",
    "print(check_number(2))\n",
    "print(check_number(-2))"
   ]
  },
  {
   "cell_type": "markdown",
   "metadata": {},
   "source": [
    "Create a Python program that checks if a given number is even or odd using an if-else statement."
   ]
  },
  {
   "cell_type": "code",
   "execution_count": 45,
   "metadata": {},
   "outputs": [
    {
     "name": "stdout",
     "output_type": "stream",
     "text": [
      "4 is even.\n",
      "9 is odd.\n"
     ]
    }
   ],
   "source": [
    "def check_even_odd(num):\n",
    "    if num%2==0:\n",
    "        return f\"{num} is even.\"\n",
    "    else:\n",
    "        return f\"{num} is odd.\"\n",
    "print(check_even_odd(4))\n",
    "print(check_even_odd(9))"
   ]
  },
  {
   "cell_type": "markdown",
   "metadata": {},
   "source": [
    "How can you use nested if-else statements in Python, and provide an example?"
   ]
  },
  {
   "cell_type": "code",
   "execution_count": 47,
   "metadata": {},
   "outputs": [
    {
     "name": "stdout",
     "output_type": "stream",
     "text": [
      "you are eligible to vote in the India\n"
     ]
    }
   ],
   "source": [
    "\"\"\"In python, we can use nested if-else statements to check\n",
    "multiple conditions and execute different blocks of code based\n",
    "on those conditions\"\"\"\n",
    "#example\n",
    "age = int(input(\"enter age: \")) #23\n",
    "citizenship = \"India\"\n",
    "\n",
    "if age >=18:\n",
    "    if citizenship == \"India\":\n",
    "        print(\"you are eligible to vote in the India\")\n",
    "    else:\n",
    "        print(\"you are  not eligible to vote in india\")\n",
    "else:\n",
    "    print(\"you are not yet 18,so you are not eligible to vote.\")\n"
   ]
  },
  {
   "cell_type": "markdown",
   "metadata": {},
   "source": [
    "4.Write a Python program to determine the largest of three numbers using if-else."
   ]
  },
  {
   "cell_type": "code",
   "execution_count": 48,
   "metadata": {},
   "outputs": [
    {
     "name": "stdout",
     "output_type": "stream",
     "text": [
      "7 is the largest  number.\n"
     ]
    }
   ],
   "source": [
    "n1 = int(input(\"Enter n1: \"))  #3\n",
    "n2 = int(input(\"enter n2: \"))  #7\n",
    "n3 = int(input(\"enter n3: \"))   #6\n",
    "if n1>n2:\n",
    "    if n1>n3:\n",
    "        print(f\"{n1} is the largest number.\")\n",
    "    else:\n",
    "        print(f\"{n3} is the largest number.\")\n",
    "else: \n",
    "    if n2>n3:\n",
    "        print(f\"{n2} is the largest  number.\")\n",
    "    else:\n",
    "        print(f\"{n3} is the largest number.\")"
   ]
  },
  {
   "cell_type": "markdown",
   "metadata": {},
   "source": [
    "5.Write a Python program that calculates the absolute value of a number using if-else."
   ]
  },
  {
   "cell_type": "code",
   "execution_count": 50,
   "metadata": {},
   "outputs": [
    {
     "name": "stdout",
     "output_type": "stream",
     "text": [
      "absolute value of -2 is 2\n"
     ]
    }
   ],
   "source": [
    "n = int(input(\"enter n1:\"))\n",
    "if n >= 0:\n",
    "    print(f\"absolute value of {n} is {n}\")\n",
    "else:\n",
    "    print(f\"absolute value of {n} is {-n}\")"
   ]
  },
  {
   "cell_type": "markdown",
   "metadata": {},
   "source": [
    "6.Create a Python program that checks if a given character is a vowel or consonant using if-else."
   ]
  },
  {
   "cell_type": "code",
   "execution_count": 51,
   "metadata": {},
   "outputs": [
    {
     "name": "stdout",
     "output_type": "stream",
     "text": [
      "a is a vowel.\n"
     ]
    }
   ],
   "source": [
    "vowels = \"aeiou\"\n",
    "char = input(\"enter char: \")\n",
    "if char.lower() in \"aeiou\":\n",
    "    print(f\"{char} is a vowel.\")\n",
    "else: \n",
    "    print(f\"{char} is a consonant.\")\n"
   ]
  },
  {
   "cell_type": "markdown",
   "metadata": {},
   "source": [
    "7.write a Python program to determine if a user is eligible to vote based on their age using if-else."
   ]
  },
  {
   "cell_type": "code",
   "execution_count": 52,
   "metadata": {},
   "outputs": [
    {
     "name": "stdout",
     "output_type": "stream",
     "text": [
      "you are eligible to vote.\n",
      "you are eligible to vote.\n",
      "you are not eligible to vote.\n"
     ]
    }
   ],
   "source": [
    "def eligibility(age):\n",
    "    if age>=18:\n",
    "        return f\"you are eligible to vote.\"\n",
    "    else:\n",
    "        return f\"you are not eligible to vote.\"\n",
    "print(eligibility(18))\n",
    "print(eligibility(20))\n",
    "print(eligibility(17))"
   ]
  },
  {
   "cell_type": "markdown",
   "metadata": {},
   "source": [
    "8.Create a Python program that calculates the discount amount based on the purchase amount using if-else"
   ]
  },
  {
   "cell_type": "code",
   "execution_count": 57,
   "metadata": {},
   "outputs": [
    {
     "name": "stdout",
     "output_type": "stream",
     "text": [
      "Discount price is 5600 after a discount of 20%\n"
     ]
    }
   ],
   "source": [
    "def discount_price(p_amount):\n",
    "    if p_amount > 6000:\n",
    "        discount = 0.2\n",
    "        dis_price = p_amount*(1-discount)\n",
    "    else:\n",
    "        discount = 0.05\n",
    "        dis_price = p_amount*(1-discount)\n",
    "    return dis_price,discount\n",
    "price,discount = discount_price(7000)\n",
    "\n",
    "print(f\"Discount price is {price:.0f} after a discount of {discount*100:.0f}%\")\n"
   ]
  },
  {
   "cell_type": "markdown",
   "metadata": {},
   "source": [
    "9.Write a Python program to check if a number is within a specified range using if-else."
   ]
  },
  {
   "cell_type": "code",
   "execution_count": 59,
   "metadata": {},
   "outputs": [
    {
     "name": "stdout",
     "output_type": "stream",
     "text": [
      "11 is not with in specified range.\n"
     ]
    }
   ],
   "source": [
    "def check_num_range(n):\n",
    "    r = range(1,10)\n",
    "    if n in r:\n",
    "        return f\"{n} is within specified range.\"\n",
    "    else:\n",
    "        return f\"{n} is not within specified range.\"\n",
    "print(check_num_range(11))"
   ]
  },
  {
   "cell_type": "markdown",
   "metadata": {},
   "source": [
    "10.Create a Python program that determines the grade of a student based on their score using if-else."
   ]
  },
  {
   "cell_type": "code",
   "execution_count": 60,
   "metadata": {},
   "outputs": [
    {
     "name": "stdout",
     "output_type": "stream",
     "text": [
      "B\n"
     ]
    }
   ],
   "source": [
    "def grade_determine(score):\n",
    "    if isinstance(score,int) and 1<= score <=100:\n",
    "        if score>=90:\n",
    "            return \"A\"\n",
    "        else:\n",
    "            if score>=80:\n",
    "                return \"B\"\n",
    "            else:\n",
    "                if score >=70:\n",
    "                    return \"C\"\n",
    "                else:\n",
    "                    if score>=60:\n",
    "                        return \"D\"\n",
    "                    else:\n",
    "                        return \"Fail\"\n",
    "    else:\n",
    "        return \"Invalid input.Plese enter numeric value between 1 and 100.\"\n",
    "\n",
    "result = grade_determine(85)\n",
    "print(result)        "
   ]
  },
  {
   "cell_type": "markdown",
   "metadata": {},
   "source": [
    "11.Write a Python program to check if a string is empty or not using if-else"
   ]
  },
  {
   "cell_type": "code",
   "execution_count": 65,
   "metadata": {},
   "outputs": [
    {
     "name": "stdout",
     "output_type": "stream",
     "text": [
      "string is not empty.\n"
     ]
    }
   ],
   "source": [
    "input_str = input(\"enter a string: \")\n",
    "if not input_str:\n",
    "    print(\"string is empty\")\n",
    "else:\n",
    "    print(\"string is not empty.\")\n",
    "    "
   ]
  },
  {
   "cell_type": "markdown",
   "metadata": {},
   "source": [
    "12.Create a Python program that identifies the type of a triangle (e.g., equilateral, isosceles, or scalene) based on input values using if-else."
   ]
  },
  {
   "cell_type": "code",
   "execution_count": 74,
   "metadata": {},
   "outputs": [
    {
     "name": "stdout",
     "output_type": "stream",
     "text": [
      "this is equilateral triangle.\n",
      "this is an isosceles triangle.\n",
      "this is an isosceles triangle.\n",
      "this is an isosceles triangle.\n",
      " this is scalene triangle.\n"
     ]
    }
   ],
   "source": [
    "def tri_type(side1,side2,side3):\n",
    "    if not (isinstance(side1,int)and isinstance(side2,int) and isinstance(side3,int)):\n",
    "        return \"Invalid Input. Please enter all three numeric value.\"\n",
    "    if side1 == side2 == side3:\n",
    "        return \"this is equilateral triangle.\"\n",
    "    else:\n",
    "        if side1==side2!=side3 or side1==side3!=side2 or side2==side3!=side1:\n",
    "            return \"this is an isosceles triangle.\"\n",
    "        else:\n",
    "            if side1!=side2!=side3:\n",
    "                return \" this is scalene triangle.\"\n",
    "            \n",
    "print(tri_type(2,2,2))\n",
    "print(tri_type(1,2,1))\n",
    "print(tri_type(1,1,3))\n",
    "print(tri_type(1,2,2))\n",
    "print(tri_type(1,2,3))\n",
    "\n"
   ]
  },
  {
   "cell_type": "markdown",
   "metadata": {},
   "source": [
    "13.Write a Python program to determine the day of the week based on a user-provided number using if-else."
   ]
  },
  {
   "cell_type": "code",
   "execution_count": 96,
   "metadata": {},
   "outputs": [
    {
     "name": "stdout",
     "output_type": "stream",
     "text": [
      "it's Saturday.\n",
      "It's Sunday.\n",
      "it's Monday\n",
      "it's Tuesday.\n",
      "it's Wednesday.\n",
      "it's Thursday.\n",
      "it's Friday.\n",
      "Invalid Input. Please enter numeric value between 1 and 7.\n",
      "Please enter valid input(1-7)\n"
     ]
    }
   ],
   "source": [
    "def day_of_week(num):\n",
    "    if isinstance(num,int):\n",
    "\n",
    "        if num == 1:\n",
    "            return \"It's Sunday.\"\n",
    "        else:\n",
    "            if num == 2:\n",
    "                return \"it's Monday\"\n",
    "            else:\n",
    "                if num == 3:\n",
    "                    return \"it's Tuesday.\"\n",
    "                else:\n",
    "                    if num == 4:\n",
    "                        return \"it's Wednesday.\"\n",
    "                    else:\n",
    "                        if num == 5:\n",
    "                            return \"it's Thursday.\"\n",
    "                        else:\n",
    "                            if num == 6:\n",
    "                                return \"it's Friday.\"\n",
    "                            else:\n",
    "                                if num == 7:\n",
    "                                    return \"it's Saturday.\"\n",
    "                                else:\n",
    "                                    return \"Please enter valid input(1-7)\"\n",
    "    else:\n",
    "        return \"Invalid Input. Please enter numeric value between 1 and 7.\"\n",
    "print(day_of_week(7))\n",
    "print(day_of_week(1))\n",
    "print(day_of_week(2))\n",
    "print(day_of_week(3))\n",
    "print(day_of_week(4))\n",
    "print(day_of_week(5))\n",
    "print(day_of_week(6))\n",
    "print(day_of_week(\"str\"))\n",
    "print(day_of_week(8))"
   ]
  },
  {
   "cell_type": "markdown",
   "metadata": {},
   "source": [
    "14.Create a Python program that checks if a given year is a leap year using both if-else and a function."
   ]
  },
  {
   "cell_type": "code",
   "execution_count": 100,
   "metadata": {},
   "outputs": [
    {
     "name": "stdout",
     "output_type": "stream",
     "text": [
      "False\n",
      "True\n",
      "True\n"
     ]
    }
   ],
   "source": [
    "def is_leap_year(year):\n",
    "    if year%4==0:\n",
    "        if year%100!=0:\n",
    "            return True\n",
    "        else:\n",
    "            if year%400==0:\n",
    "                return True\n",
    "    return False\n",
    "print(is_leap_year(2023)) #not divisible by 4 and 100.\n",
    "print(is_leap_year(2024)) #divisible by 4 but not by 100\n",
    "print(is_leap_year(2000)) #diivisible by 400\n"
   ]
  },
  {
   "cell_type": "markdown",
   "metadata": {},
   "source": [
    "15.How do you use the \"assert\" statement in Python to add debugging checks within if-else blocks?"
   ]
  },
  {
   "cell_type": "code",
   "execution_count": 106,
   "metadata": {},
   "outputs": [
    {
     "name": "stdout",
     "output_type": "stream",
     "text": [
      "90.0\n",
      "95.0\n"
     ]
    },
    {
     "ename": "ValueError",
     "evalue": "Price cannot be negative.",
     "output_type": "error",
     "traceback": [
      "\u001b[1;31m---------------------------------------------------------------------------\u001b[0m",
      "\u001b[1;31mValueError\u001b[0m                                Traceback (most recent call last)",
      "Cell \u001b[1;32mIn[106], line 26\u001b[0m\n\u001b[0;32m     23\u001b[0m \u001b[38;5;28mprint\u001b[39m(calculate_discount(\u001b[38;5;241m100\u001b[39m,\u001b[38;5;28;01mTrue\u001b[39;00m)) \u001b[38;5;66;03m#This will work\u001b[39;00m\n\u001b[0;32m     24\u001b[0m \u001b[38;5;28mprint\u001b[39m(calculate_discount(\u001b[38;5;241m100\u001b[39m,\u001b[38;5;28;01mFalse\u001b[39;00m)) \u001b[38;5;66;03m#This will work\u001b[39;00m\n\u001b[1;32m---> 26\u001b[0m \u001b[38;5;28mprint\u001b[39m(\u001b[43mcalculate_discount\u001b[49m\u001b[43m(\u001b[49m\u001b[38;5;241;43m-\u001b[39;49m\u001b[38;5;241;43m100\u001b[39;49m\u001b[43m,\u001b[49m\u001b[38;5;28;43;01mTrue\u001b[39;49;00m\u001b[43m)\u001b[49m) \u001b[38;5;66;03m#this will raise ValueError\u001b[39;00m\n\u001b[0;32m     27\u001b[0m \u001b[38;5;28mprint\u001b[39m(calculate_discount(\u001b[38;5;241m100\u001b[39m,\u001b[38;5;124m\"\u001b[39m\u001b[38;5;124myes\u001b[39m\u001b[38;5;124m\"\u001b[39m)) \u001b[38;5;66;03m#this will raise assertion error\u001b[39;00m\n",
      "Cell \u001b[1;32mIn[106], line 9\u001b[0m, in \u001b[0;36mcalculate_discount\u001b[1;34m(price, is_member)\u001b[0m\n\u001b[0;32m      7\u001b[0m \u001b[38;5;28;01massert\u001b[39;00m \u001b[38;5;28misinstance\u001b[39m(is_member,\u001b[38;5;28mbool\u001b[39m), \u001b[38;5;124m\"\u001b[39m\u001b[38;5;124mMembership status must be boolean.\u001b[39m\u001b[38;5;124m\"\u001b[39m\n\u001b[0;32m      8\u001b[0m \u001b[38;5;28;01mif\u001b[39;00m price \u001b[38;5;241m<\u001b[39m\u001b[38;5;241m0\u001b[39m:\n\u001b[1;32m----> 9\u001b[0m     \u001b[38;5;28;01mraise\u001b[39;00m \u001b[38;5;167;01mValueError\u001b[39;00m(\u001b[38;5;124m\"\u001b[39m\u001b[38;5;124mPrice cannot be negative.\u001b[39m\u001b[38;5;124m\"\u001b[39m)\n\u001b[0;32m     11\u001b[0m discount \u001b[38;5;241m=\u001b[39m \u001b[38;5;241m0\u001b[39m\n\u001b[0;32m     12\u001b[0m \u001b[38;5;28;01mif\u001b[39;00m is_member:\n",
      "\u001b[1;31mValueError\u001b[0m: Price cannot be negative."
     ]
    }
   ],
   "source": [
    "'''Assertion can be used to check conditions witin 'if else' blocks\n",
    ",especially for debugging or veryfying that the expected conditions\n",
    "are met.'''\n",
    "\n",
    "def calculate_discount(price,is_member):\n",
    "    assert isinstance(price,(int,float)),\"price must be a number\"\n",
    "    assert isinstance(is_member,bool), \"Membership status must be boolean.\"\n",
    "    if price <0:\n",
    "        raise ValueError(\"Price cannot be negative.\")\n",
    "    \n",
    "    discount = 0\n",
    "    if is_member:\n",
    "        discount = 0.10  #10% discount for members\n",
    "    else:\n",
    "        discount = 0.05  #discount for non-members\n",
    "    \n",
    "    final_price = price*(1-discount)\n",
    "\n",
    "    assert final_price >= 0,\"Final price should not be negative.\"\n",
    "\n",
    "    return final_price\n",
    "\n",
    "print(calculate_discount(100,True)) #This will work\n",
    "print(calculate_discount(100,False)) #This will work\n",
    "\n",
    "print(calculate_discount(-100,True)) #this will raise ValueError\n",
    "print(calculate_discount(100,\"yes\")) #this will raise assertion error\n",
    "      "
   ]
  },
  {
   "cell_type": "markdown",
   "metadata": {},
   "source": [
    "16.Create a Python program that determines the eligibility of a person for a senior citizen discount based on age using if-else."
   ]
  },
  {
   "cell_type": "code",
   "execution_count": 108,
   "metadata": {},
   "outputs": [
    {
     "name": "stdout",
     "output_type": "stream",
     "text": [
      "you are eligible for the senior citizen discount.\n"
     ]
    }
   ],
   "source": [
    "age = int(input(\"Enter your age:\"))  #80\n",
    "if age<0:\n",
    "    print(\"Invalid age.Please enter a valid age.\")\n",
    "else:\n",
    "    if age <60:\n",
    "        print(\"you are not eligible for the senior citizen discount\")\n",
    "    else:\n",
    "        print(\"you are eligible for the senior citizen discount.\")"
   ]
  },
  {
   "cell_type": "markdown",
   "metadata": {},
   "source": [
    "17.Write a Python program to categorize a given character as uppercase, lowercase, or neither using if-else."
   ]
  },
  {
   "cell_type": "code",
   "execution_count": 111,
   "metadata": {},
   "outputs": [
    {
     "name": "stdout",
     "output_type": "stream",
     "text": [
      "Invalid input. Please enter exactly one character\n"
     ]
    }
   ],
   "source": [
    "char = input(\"enter char: \")\n",
    "if len(char)!= 1:\n",
    "    print(\"Invalid input. Please enter exactly one character\")\n",
    "else:\n",
    "    if char.isupper():\n",
    "        print(\"Given character is uppercase\")\n",
    "    else:\n",
    "        if char.islower():\n",
    "            print(\"Given char is lower case.\")\n",
    "        else:\n",
    "            print(\"given char is neither uppercase nor lowercase\")\n",
    "            "
   ]
  },
  {
   "cell_type": "markdown",
   "metadata": {},
   "source": [
    "18.Write a Python program to determine the roots of a quadratic equation using if-else."
   ]
  },
  {
   "cell_type": "code",
   "execution_count": 118,
   "metadata": {},
   "outputs": [
    {
     "name": "stdout",
     "output_type": "stream",
     "text": [
      "the quadratice equation has one root 1.0=1.0\n",
      "there will be no real roots\n",
      "the quadratic equation has two roots 3.0 and 2.0\n"
     ]
    }
   ],
   "source": [
    "def quadratic_roots(a,b,c):\n",
    "    d = b**2-(4*a*c)\n",
    "    root1 = (-b+d**0.5)/2*a\n",
    "    root2 = (-b-d**0.5)/2*a\n",
    "    if d < 0:\n",
    "        return \"there will be no real roots\"\n",
    "    else:\n",
    "        if d > 0:\n",
    "            return f\"the quadratic equation has two roots {root1} and {root2}\"\n",
    "        else:\n",
    "            return f\"the quadratice equation has one root {root1}={root2}\"\n",
    "\n",
    "print(quadratic_roots(1,-2,1))\n",
    "print(quadratic_roots(1,2,4))\n",
    "print(quadratic_roots(1,-5,6))"
   ]
  },
  {
   "cell_type": "markdown",
   "metadata": {},
   "source": [
    "19.Create a Python program that checks if a given year is a century year or not using if-else."
   ]
  },
  {
   "cell_type": "code",
   "execution_count": 119,
   "metadata": {},
   "outputs": [
    {
     "name": "stdout",
     "output_type": "stream",
     "text": [
      "2000 is a century year.\n"
     ]
    }
   ],
   "source": [
    "year = int(input(\"enter year: \"))\n",
    "if year < 1:\n",
    "    print(\"Invalid year. Please enter a valid error.\")\n",
    "else:\n",
    "    if year%100==0:\n",
    "        print(f\"{year} is a century year.\")\n",
    "    else:\n",
    "        print(f\"{year} is not century year.\")"
   ]
  },
  {
   "cell_type": "markdown",
   "metadata": {},
   "source": [
    "20.Write a Python program to determine if a given number is a perfect square using if-else."
   ]
  },
  {
   "cell_type": "code",
   "execution_count": 121,
   "metadata": {},
   "outputs": [
    {
     "name": "stdout",
     "output_type": "stream",
     "text": [
      "8 is not a perfect square\n"
     ]
    }
   ],
   "source": [
    "num = int(input(\"enter a number:\"))\n",
    "if num <0:\n",
    "    print(\"Invalid input. Please enter a non-negative number.\")\n",
    "else:\n",
    "    root = num**0.5\n",
    "    if root == int(root):\n",
    "        print(f\"{num} is a perfect square\")\n",
    "    else:\n",
    "        print(f\"{num} is not a perfect square\")"
   ]
  },
  {
   "cell_type": "markdown",
   "metadata": {},
   "source": [
    "21.Explain the purpose of the \"continue\" and \"break\" statements within if-else loops\n",
    "answer:-\n",
    "\n",
    "Continue:\n",
    "\n",
    "- Skips the rest of the code inside the if-else block for the current iteration and moves to the next iteration.\n",
    "- Used to skip certain conditions and continue with    the rest.\n",
    "\n",
    "Break :\n",
    "\n",
    "- Exits the if-else block prematurely and moves to the code after the block.\n",
    "- Used to exit the block based on a condition and move on to the next part of the code.\n",
    "\n",
    "imp:- continue and break only work within loops (like for, while), not within if-else statements alone. If-else statements don't have iterations, so continue and break wouldn't make sense without a loop.\n"
   ]
  },
  {
   "cell_type": "markdown",
   "metadata": {},
   "source": [
    "22.Create a Python program that calculates the BMI (Body Mass Index) of a person based on their weight and height using if-else."
   ]
  },
  {
   "cell_type": "code",
   "execution_count": 122,
   "metadata": {},
   "outputs": [
    {
     "name": "stdout",
     "output_type": "stream",
     "text": [
      "you are overweight.\n",
      "your BMI is:  25.83\n"
     ]
    }
   ],
   "source": [
    "weight = float(input(\"enter your weight in kg: \"))\n",
    "height = float(input(\"enter your height in meters: \"))\n",
    "bmi = weight/(height**2)\n",
    "if bmi <18.5:\n",
    "    print(\"you are underweight\")\n",
    "else: \n",
    "    if bmi<25:\n",
    "        print(\"you are normal weight.\")\n",
    "    else:\n",
    "        if bmi<30:\n",
    "            print(\"you are overweight.\")\n",
    "        else:\n",
    "            print(\"you are obese.\")\n",
    "print(\"your BMI is: \", round(bmi,2))\n"
   ]
  },
  {
   "cell_type": "markdown",
   "metadata": {},
   "source": [
    "23.How can you use the \"filter()\" function with if-else statements to filter elements from a list?"
   ]
  },
  {
   "cell_type": "code",
   "execution_count": 123,
   "metadata": {},
   "outputs": [
    {
     "name": "stdout",
     "output_type": "stream",
     "text": [
      "[2, 4, 6, 8, 10]\n"
     ]
    }
   ],
   "source": [
    "'''using filter() with if-else \n",
    "we define a regular function with if-else\n",
    "then we use regular function in filter function to filter out\n",
    "requirement from iteralble object'''\n",
    "#example:\n",
    "\n",
    "numbers = [1,2,3,4,5,6,7,8,9,10]\n",
    "def is_even(n):\n",
    "    if n%2 == 0:\n",
    "        return True\n",
    "    else:\n",
    "        return False\n",
    "even_numbers = list(filter(is_even,numbers))\n",
    "print(even_numbers)"
   ]
  },
  {
   "cell_type": "markdown",
   "metadata": {},
   "source": [
    "24.Write a Python program to determine if a given number is prime or not using if-else."
   ]
  },
  {
   "cell_type": "code",
   "execution_count": 126,
   "metadata": {},
   "outputs": [
    {
     "name": "stdout",
     "output_type": "stream",
     "text": [
      "23 is a prime number.\n"
     ]
    }
   ],
   "source": [
    "num = int(input(\"enter a num:\"))\n",
    "if num<=1:\n",
    "    print(num,\"it's not a prime number.\")\n",
    "else:\n",
    "    for i in range(2,num):\n",
    "        if num%i == 0:\n",
    "            print(num,\"is not a prime number.\")\n",
    "            break\n",
    "    else:\n",
    "        print(num,\"is a prime number.\")"
   ]
  },
  {
   "cell_type": "markdown",
   "metadata": {},
   "source": [
    "Map:-\n",
    "\n",
    "1.Explain the purpose of the `map()` function in Python and provide an example of how it can be used to apply a function to each element of an iterable."
   ]
  },
  {
   "cell_type": "code",
   "execution_count": 127,
   "metadata": {},
   "outputs": [
    {
     "name": "stdout",
     "output_type": "stream",
     "text": [
      "[1, 4, 9, 16, 25]\n"
     ]
    }
   ],
   "source": [
    "'''purpose of map function is to modify the each and \n",
    "every elements of iterable object. it takes function and \n",
    "iterable as argument. map applies a given function  to each element \n",
    "of iterable and returns iterator with modified element'''\n",
    "#example\n",
    "numbers= [1,2,3,4,5]\n",
    "squared_number = list(map(lambda n:n**2,numbers))\n",
    "print(squared_number)"
   ]
  },
  {
   "cell_type": "markdown",
   "metadata": {},
   "source": [
    "2.Write a Python program that uses the `map()` function to square each element of a list of numbers."
   ]
  },
  {
   "cell_type": "code",
   "execution_count": 128,
   "metadata": {},
   "outputs": [
    {
     "name": "stdout",
     "output_type": "stream",
     "text": [
      "[1, 4, 9, 16, 25]\n"
     ]
    }
   ],
   "source": [
    "numbers= [1,2,3,4,5]\n",
    "squared_number = list(map(lambda n:n**2,numbers))\n",
    "print(squared_number)"
   ]
  },
  {
   "cell_type": "markdown",
   "metadata": {},
   "source": [
    "3.How does the `map()` function differ from a list comprehension in Python, and when would you choose one over the other?\n",
    "answer:-\n",
    "> Syntax:map(func,iterable) vs[expr for elem in iterable]\n",
    "> Readability:List comprehension are often more readable.\n",
    "> Flexibility: List comprehensions offer more flexibility(conditionals,multiple loops)\n",
    "> Performance: map() is generally faster for large datasets\n",
    "> Return type: map() returns an iterator, list comprehensions return a list.\n",
    "\n",
    "we will choose map() for simple, performance-critical transformations.\n",
    "and we will choose List comprehension for flexibility,readability,and intermediate lists are acceptable.\n"
   ]
  },
  {
   "cell_type": "markdown",
   "metadata": {},
   "source": [
    "4.Create a Python program that uses the `map()` function to convert a list of names to uppercase."
   ]
  },
  {
   "cell_type": "code",
   "execution_count": 129,
   "metadata": {},
   "outputs": [
    {
     "name": "stdout",
     "output_type": "stream",
     "text": [
      "['KRISHNA', 'RADHA', 'VRIDAVANCHANDRA', 'JAGANNATH', 'VITHAL']\n"
     ]
    }
   ],
   "source": [
    "names = [\"krishna\",\"radha\",\"Vridavanchandra\",\"jagannath\",\"vithal\"]\n",
    "uppercase_name=list(map(lambda input_str:input_str.upper(),names))\n",
    "print(uppercase_name)"
   ]
  },
  {
   "cell_type": "markdown",
   "metadata": {},
   "source": [
    "5.Write a Python program that uses the `map()` function to calculate the length of each word in a list of strings.\n"
   ]
  },
  {
   "cell_type": "code",
   "execution_count": 132,
   "metadata": {},
   "outputs": [
    {
     "name": "stdout",
     "output_type": "stream",
     "text": [
      "{'krishna': 7, 'radha': 5, 'Vridavanchandra': 15, 'jagannath': 9, 'vithal': 6}\n"
     ]
    }
   ],
   "source": [
    "str_lst = [\"krishna\",\"radha\",\"Vridavanchandra\",\"jagannath\",\"vithal\"]\n",
    "len_of_str = dict(map(lambda a:(a,len(a)),str_lst))\n",
    "print(len_of_str)"
   ]
  },
  {
   "cell_type": "markdown",
   "metadata": {},
   "source": [
    "6.How can you use the `map()` function to apply a custom function to elements of multiple lists simultaneously in Python?\n"
   ]
  },
  {
   "cell_type": "code",
   "execution_count": 133,
   "metadata": {},
   "outputs": [
    {
     "name": "stdout",
     "output_type": "stream",
     "text": [
      "[12, 15, 18]\n"
     ]
    }
   ],
   "source": [
    "'''we use the map() function to apply a custom function to\n",
    "elements of multiple lists simultaneousy by passing the list\n",
    "as separate arguments to the map() function. The custom \n",
    "function accept multiple arguments one for each list. '''\n",
    "#Example:\n",
    "def custom_function(a,b,c):\n",
    "    return a+b+c\n",
    "lst1 = [1,2,3]\n",
    "lst2 = [4,5,6]\n",
    "lst3 = [7,8,9]\n",
    "\n",
    "result = list(map(custom_function,lst1,lst2,lst3))\n",
    "print(result)\n",
    "''' but in this case we have to keep the length of all \n",
    "list is same otherwise map() will stop at the end of the\n",
    "shortest list '''\n",
    "\n"
   ]
  },
  {
   "cell_type": "markdown",
   "metadata": {},
   "source": [
    "7.Create a Python program that uses `map()` to convert a list of temperatures from Celsius to Fahrenheit."
   ]
  },
  {
   "cell_type": "code",
   "execution_count": 135,
   "metadata": {},
   "outputs": [
    {
     "name": "stdout",
     "output_type": "stream",
     "text": [
      "[-4.0, 5.0, 14.0, 23.0, 32.0, 41.0, 50.0, 59.0, 68.0, 77.0, 86.0, 95.0, 104.0, 113.0, 122.0]\n"
     ]
    }
   ],
   "source": [
    "celsius_temp = [-20, -15, -10, -5, 0, 5, 10, 15, 20, 25,\n",
    "                 30, 35, 40, 45, 50]\n",
    "fahrenheit_temp = list(map((lambda c:(c*9/5)+32),celsius_temp))\n",
    "print(fahrenheit_temp)\n"
   ]
  },
  {
   "cell_type": "markdown",
   "metadata": {},
   "source": [
    "8.Write a Python program that uses the `map()` function to round each element of a list of floating-point numbers to the nearest integer."
   ]
  },
  {
   "cell_type": "code",
   "execution_count": 136,
   "metadata": {},
   "outputs": [
    {
     "name": "stdout",
     "output_type": "stream",
     "text": [
      "[2, 3, 3, 4, 4, 5]\n"
     ]
    }
   ],
   "source": [
    "lst = [2.34,2.66,3,3.6,4,4.6]\n",
    "int_lst = list(map(lambda n:round(n),lst))\n",
    "print(int_lst)"
   ]
  },
  {
   "cell_type": "markdown",
   "metadata": {},
   "source": [
    "\n",
    "Reduce :-\n",
    "\n",
    "\n",
    "What is the `reduce()` function in Python, and what module should you import to use it? Provide an example of its basic usage.\n"
   ]
  },
  {
   "cell_type": "code",
   "execution_count": 138,
   "metadata": {},
   "outputs": [
    {
     "name": "stdout",
     "output_type": "stream",
     "text": [
      "15\n"
     ]
    }
   ],
   "source": [
    "'''reduce function takes function and iterable as argument\n",
    "applies function to first two element and then applies to result\n",
    "and next element and reduce iterable to a single output.\n",
    "\n",
    "> from functool import reduce'''\n",
    "#example\n",
    "from functools import reduce\n",
    "\n",
    "numbers = [1,2,3,4,5]\n",
    "result = reduce(lambda x,y:x+y,numbers)\n",
    "print(result)"
   ]
  },
  {
   "cell_type": "markdown",
   "metadata": {},
   "source": [
    "2.Write a Python program that uses the `reduce()` function to find the product of all elements in a list."
   ]
  },
  {
   "cell_type": "code",
   "execution_count": 139,
   "metadata": {},
   "outputs": [
    {
     "name": "stdout",
     "output_type": "stream",
     "text": [
      "120\n"
     ]
    }
   ],
   "source": [
    "numbers = [1,2,3,4,5]\n",
    "result = reduce(lambda x,y:x*y,numbers)\n",
    "print(result)"
   ]
  },
  {
   "cell_type": "markdown",
   "metadata": {},
   "source": [
    "3.Create a Python program that uses `reduce()` to find the maximum element in a list of numbers."
   ]
  },
  {
   "cell_type": "code",
   "execution_count": 140,
   "metadata": {},
   "outputs": [
    {
     "name": "stdout",
     "output_type": "stream",
     "text": [
      "89\n"
     ]
    }
   ],
   "source": [
    "lst = [1,2,3,4,5,6,89,45]\n",
    "max_num = reduce(lambda a,b:a if a >b else b,lst)\n",
    "print(max_num)"
   ]
  },
  {
   "cell_type": "markdown",
   "metadata": {},
   "source": [
    "4.How can you use the `reduce()` function to concatenate a list of strings into a single string?"
   ]
  },
  {
   "cell_type": "code",
   "execution_count": 141,
   "metadata": {},
   "outputs": [
    {
     "name": "stdout",
     "output_type": "stream",
     "text": [
      "radhakunjbihari chaitnyamahaprabhu vridavanchandra srilaprabhupada\n"
     ]
    }
   ],
   "source": [
    "str_lst = [\"radhakunjbihari\",\"chaitnyamahaprabhu\",\"vridavanchandra\",\"srilaprabhupada\"]\n",
    "concatenate = reduce(lambda a,b:a+\" \"+b,str_lst)\n",
    "print(concatenate)"
   ]
  },
  {
   "cell_type": "markdown",
   "metadata": {},
   "source": [
    "5.Write a Python program that calculates the factorial of a number using the `reduce()` function."
   ]
  },
  {
   "cell_type": "code",
   "execution_count": 142,
   "metadata": {},
   "outputs": [
    {
     "name": "stdout",
     "output_type": "stream",
     "text": [
      "factorial of 5 is 120\n"
     ]
    }
   ],
   "source": [
    "num = int(input(\"enter num: \"))\n",
    "factorial = reduce(lambda a,b:a*b,range(1,num+1))\n",
    "print(f\"factorial of {num} is {factorial}\")"
   ]
  },
  {
   "cell_type": "markdown",
   "metadata": {},
   "source": [
    "Create a Python program that uses `reduce()` to find the GCD (Greatest Common Divisor) of a list of numbers."
   ]
  },
  {
   "cell_type": "code",
   "execution_count": 145,
   "metadata": {},
   "outputs": [
    {
     "name": "stdout",
     "output_type": "stream",
     "text": [
      "6\n"
     ]
    }
   ],
   "source": [
    "import math\n",
    "numbers = [12,18,24,30]\n",
    "result = reduce(lambda a,b:math.gcd(a,b),numbers)\n",
    "print(result)"
   ]
  },
  {
   "cell_type": "markdown",
   "metadata": {},
   "source": [
    "7.Write a Python program that uses the `reduce()` function to find the sum of the digits of a given number."
   ]
  },
  {
   "cell_type": "code",
   "execution_count": 148,
   "metadata": {},
   "outputs": [
    {
     "name": "stdout",
     "output_type": "stream",
     "text": [
      "15\n"
     ]
    }
   ],
   "source": [
    "num = int(input(\"enter num:\"))\n",
    "iterable = str(num)\n",
    "sum_digit = reduce(lambda a,b:int(a)+int(b),iterable)\n",
    "print(sum_digit)"
   ]
  },
  {
   "cell_type": "markdown",
   "metadata": {},
   "source": [
    "Filter :-\n",
    "\n",
    "\n",
    "Explain the purpose of the `filter()` function in Python and provide an example of how it can be used to filter elements from an iterable.\n"
   ]
  },
  {
   "cell_type": "code",
   "execution_count": 152,
   "metadata": {},
   "outputs": [
    {
     "name": "stdout",
     "output_type": "stream",
     "text": [
      "[2, 4, 6]\n"
     ]
    }
   ],
   "source": [
    "'''purpose:\n",
    " it filters elements from an iterable  based on condition.'''\n",
    "\n",
    "''' In this example,filter() uses a lambda function to check a number\n",
    "is even.It returns an iterator with only the even numbers,which is then \n",
    "converted to a list.'''\n",
    "#example\n",
    "numbers = [1,2,3,4,5,6]\n",
    "even_numbers = list(filter(lambda x:x%2==0,numbers))\n",
    "print(even_numbers)\n",
    "\n"
   ]
  },
  {
   "cell_type": "markdown",
   "metadata": {},
   "source": [
    "2.Write a Python program that uses the `filter()` function to select even numbers from a list of integers."
   ]
  },
  {
   "cell_type": "code",
   "execution_count": 153,
   "metadata": {},
   "outputs": [
    {
     "name": "stdout",
     "output_type": "stream",
     "text": [
      "[2, 4, 6]\n"
     ]
    }
   ],
   "source": [
    "numbers = [1,2,3,4,5,6]\n",
    "even_numbers = list(filter(lambda x:x%2==0,numbers))\n",
    "print(even_numbers)"
   ]
  },
  {
   "cell_type": "markdown",
   "metadata": {},
   "source": [
    "3.Create a Python program that uses the `filter()` function to select names that start with a specific letter from a list of strings."
   ]
  },
  {
   "cell_type": "code",
   "execution_count": 154,
   "metadata": {},
   "outputs": [
    {
     "name": "stdout",
     "output_type": "stream",
     "text": [
      "['radhakunjbihari', 'radha']\n"
     ]
    }
   ],
   "source": [
    "str_lst = [\"radhakunjbihari\",\"chaitnyamahaprabhu\",\"vridavanchandra\",\"srilaprabhupada\",\"radha\"]\n",
    "f_obj = list(filter(lambda a:a[0].lower()==\"r\",str_lst))\n",
    "print(f_obj)"
   ]
  },
  {
   "cell_type": "markdown",
   "metadata": {},
   "source": [
    "4.Write a Python program that uses the `filter()` function to select prime numbers from a list of integers."
   ]
  },
  {
   "cell_type": "code",
   "execution_count": 156,
   "metadata": {},
   "outputs": [
    {
     "name": "stdout",
     "output_type": "stream",
     "text": [
      "[2, 3, 5, 7, 11]\n"
     ]
    }
   ],
   "source": [
    "def is_prime(n):\n",
    "    if n<=1:\n",
    "        return False\n",
    "    for i in range(2,n):\n",
    "        if n%i==0:\n",
    "            return False\n",
    "    return True\n",
    "numbers = [1,2,3,4,5,6,7,8,9,10,11,12]\n",
    "prime_number = list(filter(is_prime,numbers))\n",
    "print(prime_number)"
   ]
  },
  {
   "cell_type": "markdown",
   "metadata": {},
   "source": [
    "6.How can you use the `filter()` function to remove None values from a list in Python?"
   ]
  },
  {
   "cell_type": "code",
   "execution_count": 157,
   "metadata": {},
   "outputs": [
    {
     "name": "stdout",
     "output_type": "stream",
     "text": [
      "[1, 2, 4, 6]\n"
     ]
    }
   ],
   "source": [
    "''' filter(none,my_lst) uses None as the filtering function,\n",
    "which removes all None values from the list\n",
    "Alternatively we can use lambda function to achieve the same\n",
    "result.'''\n",
    "my_lst = [1,2,None,4,None,6]\n",
    "filtered_list = list(filter(None,my_lst))\n",
    "print(filtered_list)\n",
    "\n",
    "filtered_list1=list(filter(lambda x:x is not None,my_lst))"
   ]
  },
  {
   "cell_type": "markdown",
   "metadata": {},
   "source": [
    "7.Create a Python program that uses `filter()` to select words longer than a certain length from a list of strings."
   ]
  },
  {
   "cell_type": "code",
   "execution_count": 160,
   "metadata": {},
   "outputs": [
    {
     "name": "stdout",
     "output_type": "stream",
     "text": [
      "['radhakunjbihari', 'chaitnyamahaprabhu', 'vridavanchandra', 'srilaprabhupada']\n"
     ]
    }
   ],
   "source": [
    "lst = [\"radhakunjbihari\",\"chaitnyamahaprabhu\",\"vridavanchandra\",\"srilaprabhupada\",\"radha\"]\n",
    "filtered_list = list(filter(lambda x:len(x)>7,lst))\n",
    "print(filtered_list)"
   ]
  },
  {
   "cell_type": "markdown",
   "metadata": {},
   "source": [
    "7.Write a Python program that uses the `filter()` function to select elements greater than a specified threshold from a list of values."
   ]
  },
  {
   "cell_type": "code",
   "execution_count": 161,
   "metadata": {},
   "outputs": [
    {
     "name": "stdout",
     "output_type": "stream",
     "text": [
      "[6, 7, 8, 9, 10]\n"
     ]
    }
   ],
   "source": [
    "values = [1, 2, 3, 4, 5, 6, 7, 8, 9, 10]\n",
    "threshold = 5\n",
    "filtered_values = list(filter(lambda x: x > threshold, values))\n",
    "print(filtered_values)  # Output: [6, 7, 8, 9, 10]"
   ]
  },
  {
   "cell_type": "markdown",
   "metadata": {},
   "source": [
    "\n",
    "Recursion:-\n",
    "\n",
    "Explain the concept of recursion in Python. How does it differ from iteration?\n"
   ]
  },
  {
   "cell_type": "code",
   "execution_count": 163,
   "metadata": {},
   "outputs": [
    {
     "name": "stdout",
     "output_type": "stream",
     "text": [
      "120\n"
     ]
    }
   ],
   "source": [
    "'''Recursion in Python:\n",
    "\n",
    "- A function calls itself repeatedly until a base case \n",
    "is met.\n",
    "- Solves problems by breaking them down into smaller, \n",
    "identical problems.\n",
    "\n",
    "\n",
    "Key differences from iteration:\n",
    "\n",
    "- Recursion uses function calls, while iteration uses loops.\n",
    "- Recursion has a base case to stop the calls, while iteration\n",
    " uses a terminating condition.\n",
    "- Recursion can lead to stack overflow errors if not implemented \n",
    "carefully.'''\n",
    "#Example:\n",
    "def factorial(n):\n",
    "    if n==0:\n",
    "        return 1\n",
    "    else:\n",
    "        return n*factorial(n-1) #recursive call\n",
    "print(factorial(5))\n",
    "''' in this example ,the factorial function calls itself with\n",
    "decreasing values of n until it reaches the base case(n==0)'''"
   ]
  },
  {
   "cell_type": "markdown",
   "metadata": {},
   "source": [
    "2.Write a Python program to calculate the factorial of a number using recursion."
   ]
  },
  {
   "cell_type": "code",
   "execution_count": 164,
   "metadata": {},
   "outputs": [
    {
     "name": "stdout",
     "output_type": "stream",
     "text": [
      "120\n"
     ]
    }
   ],
   "source": [
    "def factorial(n):\n",
    "    if n==0:\n",
    "        return 1\n",
    "    else:\n",
    "        return n*factorial(n-1) #recursive call\n",
    "print(factorial(5))"
   ]
  },
  {
   "cell_type": "markdown",
   "metadata": {},
   "source": [
    "3.Create a recursive Python function to find the nth Fibonacci number."
   ]
  },
  {
   "cell_type": "code",
   "execution_count": 166,
   "metadata": {},
   "outputs": [
    {
     "name": "stdout",
     "output_type": "stream",
     "text": [
      "the 10th fibonacci number is: 34\n"
     ]
    }
   ],
   "source": [
    "def fibonacci(n):\n",
    "    if n <= 0:\n",
    "        return \"Input should be a positive integer.\"\n",
    "    elif n==1:\n",
    "        return 0\n",
    "    elif n==2:\n",
    "        return 1\n",
    "    else:\n",
    "        return fibonacci(n-1)+fibonacci(n-2)\n",
    "n =10\n",
    "print(f\"the {n}th fibonacci number is: {fibonacci(n)}\")\n"
   ]
  },
  {
   "cell_type": "markdown",
   "metadata": {},
   "source": [
    "4.Write a recursive Python function to calculate the sum of all elements in a list."
   ]
  },
  {
   "cell_type": "code",
   "execution_count": 167,
   "metadata": {},
   "outputs": [
    {
     "name": "stdout",
     "output_type": "stream",
     "text": [
      "Sum: 15\n"
     ]
    }
   ],
   "source": [
    "def recursive_sum(lst):\n",
    "    if len(lst)==0:\n",
    "        return 0\n",
    "    else:\n",
    "        return lst[0]+recursive_sum(lst[1:])\n",
    "print(\"Sum:\",recursive_sum([1,2,3,4,5]))\n"
   ]
  },
  {
   "cell_type": "markdown",
   "metadata": {},
   "source": [
    "5.How can you prevent a recursive function from running indefinitely, causing a stack overflow error?"
   ]
  },
  {
   "cell_type": "code",
   "execution_count": null,
   "metadata": {},
   "outputs": [],
   "source": [
    "'''To prevent a recursive function from running indefinitely\n",
    "and causing a stack overflow error:\n",
    "\n",
    "1.Define a base case which stops the recursion.\n",
    "2.Ensure progress: each recursive call moves closer to the base\n",
    "case.\n",
    "3.Avoid infinite loops: No recursive call should lead to the same state as before.\n",
    "4.Use memoization to store results of expensive function calls.\n",
    "5.Set a recursion limit to catch excessive recursion.\n",
    "6. Convert to iteration if possible,especially for large inputs.\n",
    "'''"
   ]
  },
  {
   "cell_type": "markdown",
   "metadata": {},
   "source": [
    "6.Create a recursive Python function to find the greatest common divisor (GCD) of two numbers using the Euclidean algorithm."
   ]
  },
  {
   "cell_type": "code",
   "execution_count": 169,
   "metadata": {},
   "outputs": [
    {
     "name": "stdout",
     "output_type": "stream",
     "text": [
      "6\n"
     ]
    }
   ],
   "source": [
    "def gcd(a,b):\n",
    "    if b==0:\n",
    "        return a\n",
    "    else:\n",
    "        return gcd(b,a%b)\n",
    "print(gcd(18,48))\n"
   ]
  },
  {
   "cell_type": "markdown",
   "metadata": {},
   "source": [
    "7.Write a recursive Python function to reverse a string."
   ]
  },
  {
   "cell_type": "code",
   "execution_count": 175,
   "metadata": {},
   "outputs": [
    {
     "name": "stdout",
     "output_type": "stream",
     "text": [
      "varuaS\n"
     ]
    }
   ],
   "source": [
    "def reverse_str(input_str):\n",
    "    if len(input_str) <= 1:\n",
    "        return input_str\n",
    "    else:\n",
    "        return  reverse_str(input_str[1:])+input_str[0]\n",
    "\n",
    "print(reverse_str(\"Saurav\"))"
   ]
  },
  {
   "cell_type": "markdown",
   "metadata": {},
   "source": [
    "8.Create a recursive Python function to calculate the power of a number (x^n)."
   ]
  },
  {
   "cell_type": "code",
   "execution_count": 176,
   "metadata": {},
   "outputs": [
    {
     "name": "stdout",
     "output_type": "stream",
     "text": [
      "25\n",
      "0.04\n"
     ]
    }
   ],
   "source": [
    "def calculate_power(x,n):\n",
    "    if n == 0:\n",
    "        return 1\n",
    "    elif n<0:\n",
    "        return 1/calculate_power(x,-n)\n",
    "    else:\n",
    "        return x*calculate_power(x,n-1)\n",
    "print(calculate_power(5,2))\n",
    "print(calculate_power(5,-2))\n"
   ]
  },
  {
   "cell_type": "markdown",
   "metadata": {},
   "source": [
    "9.Write a recursive Python function to find all permutations of a given string."
   ]
  },
  {
   "cell_type": "code",
   "execution_count": 177,
   "metadata": {},
   "outputs": [
    {
     "name": "stdout",
     "output_type": "stream",
     "text": [
      "['abc', 'acb', 'bac', 'bca', 'cab', 'cba']\n"
     ]
    }
   ],
   "source": [
    "def permutations(s):\n",
    "    if len(s)==1:\n",
    "        return [s]\n",
    "    else:\n",
    "        result = []\n",
    "        for i,char in enumerate(s):\n",
    "            rest = s[:i]+s[i+1:]\n",
    "            for perm in permutations(rest):\n",
    "                result.append(char+perm)\n",
    "        return result\n",
    "print(permutations(\"abc\"))"
   ]
  },
  {
   "cell_type": "markdown",
   "metadata": {},
   "source": [
    "10.Write a recursive Python function to check if a string is a palindrome."
   ]
  },
  {
   "cell_type": "code",
   "execution_count": 178,
   "metadata": {},
   "outputs": [
    {
     "name": "stdout",
     "output_type": "stream",
     "text": [
      "True\n",
      "False\n"
     ]
    }
   ],
   "source": [
    "def is_palindrome(s):\n",
    "    s = s.replace(\" \",\"\").lower()\n",
    "    if  len(s)<=1:\n",
    "        return True\n",
    "    else:\n",
    "        return s[0]==s[-1] and is_palindrome(s[1:-1])\n",
    "print(is_palindrome(\"radar\"))\n",
    "print(is_palindrome(\"python\"))"
   ]
  },
  {
   "cell_type": "markdown",
   "metadata": {},
   "source": [
    "11.Create a recursive Python function to generate all possible combinations of a list of elements."
   ]
  },
  {
   "cell_type": "code",
   "execution_count": 181,
   "metadata": {},
   "outputs": [
    {
     "name": "stdout",
     "output_type": "stream",
     "text": [
      "[[1, 2, 3], [1, 3, 2], [2, 1, 3], [2, 3, 1], [3, 1, 2], [3, 2, 1]]\n"
     ]
    }
   ],
   "source": [
    "def combinations(elements):\n",
    "    if len(elements) == 1:\n",
    "        return [elements]\n",
    "    else:\n",
    "        result = []\n",
    "        for i,element in enumerate(elements):\n",
    "            rest = elements[:i]+elements[i+1:]\n",
    "            for combo in combinations(rest):\n",
    "                result.append([element]+combo)\n",
    "        return result\n",
    "\n",
    "print(combinations([1,2,3]))"
   ]
  },
  {
   "cell_type": "markdown",
   "metadata": {},
   "source": [
    "Basics of Functions:\n",
    "\n",
    "1.What is a function in Python, and why is it used?"
   ]
  },
  {
   "cell_type": "code",
   "execution_count": 184,
   "metadata": {},
   "outputs": [
    {
     "data": {
      "text/plain": [
       "\"fuction is a block of code where there is  collection \\nof statement gouped under a name we can use whenever we want to \\nexecute all those statements at a time.\\n\\n\\nit's used to :\\n>organize code into reusable and modular units\\n>Reduce code duplication\\n>Make code more readable and maintainable\\n>Improve program structure and scalabil*y\\n>enable code reuse and abstraction.\""
      ]
     },
     "execution_count": 184,
     "metadata": {},
     "output_type": "execute_result"
    }
   ],
   "source": [
    "'''fuction is a block of code where there is  collection \n",
    "of statement gouped under a name we can use whenever we want to \n",
    "execute all those statements at a time.\n",
    "\n",
    "\n",
    "it's used to :\n",
    ">organize code into reusable and modular units\n",
    ">Reduce code duplication\n",
    ">Make code more readable and maintainable\n",
    ">Improve program structure and scalabil*y\n",
    ">enable code reuse and abstraction.'''\n"
   ]
  },
  {
   "cell_type": "markdown",
   "metadata": {},
   "source": [
    "2.How do you define a function in Python? Provide an example."
   ]
  },
  {
   "cell_type": "code",
   "execution_count": 182,
   "metadata": {},
   "outputs": [
    {
     "name": "stdout",
     "output_type": "stream",
     "text": [
      "Hello, Nikita!\n"
     ]
    }
   ],
   "source": [
    "'''In python,a function is defined using the def keyword \n",
    "followed by the function name and parentheses ().'''\n",
    "\n",
    "#example\n",
    "def greet(name):\n",
    "    print(\"Hello, \" +name + \"!\")\n",
    "greet(\"Nikita\")"
   ]
  },
  {
   "cell_type": "markdown",
   "metadata": {},
   "source": [
    "3.Explain the difference between a function definition and a function call."
   ]
  },
  {
   "cell_type": "code",
   "execution_count": 183,
   "metadata": {},
   "outputs": [
    {
     "data": {
      "text/plain": [
       "\"Function Definition:\\nA function definition is where you create and specify the\\nfunction's:\\n\\n>Name\\n>Parameters(input)\\n>Code block(function body)\\n\\nFunction Call:\\nA function call is when you:\\n>use the function's name \\n>Provide the required arguments(inputs)\\n>Execute the function's code block\""
      ]
     },
     "execution_count": 183,
     "metadata": {},
     "output_type": "execute_result"
    }
   ],
   "source": [
    "'''Function Definition:\n",
    "A function definition is where you create and specify the\n",
    "function's:\n",
    "\n",
    ">Name\n",
    ">Parameters(input)\n",
    ">Code block(function body)\n",
    "\n",
    "Function Call:\n",
    "A function call is when you:\n",
    ">use the function's name \n",
    ">Provide the required arguments(inputs)\n",
    ">Execute the function's code block'''"
   ]
  },
  {
   "cell_type": "markdown",
   "metadata": {},
   "source": [
    "4.Write a Python program that defines a function to calculate the sum of two numbers and then calls the function."
   ]
  },
  {
   "cell_type": "code",
   "execution_count": 185,
   "metadata": {},
   "outputs": [
    {
     "data": {
      "text/plain": [
       "5"
      ]
     },
     "execution_count": 185,
     "metadata": {},
     "output_type": "execute_result"
    }
   ],
   "source": [
    "def sum(n1,n2):  #function definition\n",
    "    return n1+n2\n",
    "sum(2,3)  #function call"
   ]
  },
  {
   "cell_type": "markdown",
   "metadata": {},
   "source": [
    "5.What is a function signature, and what information does it typically include?"
   ]
  },
  {
   "cell_type": "code",
   "execution_count": 186,
   "metadata": {},
   "outputs": [
    {
     "data": {
      "text/plain": [
       "'A function signature is the part of a function definition\\nthat specifies its:\\n\\n>name\\n>parameters(inputs)\\n>return type\\n\\nThe function signatur serves as a contract, specifying how to\\ncall the function and what to expect from it.'"
      ]
     },
     "execution_count": 186,
     "metadata": {},
     "output_type": "execute_result"
    }
   ],
   "source": [
    "'''A function signature is the part of a function definition\n",
    "that specifies its:\n",
    "\n",
    ">name\n",
    ">parameters(inputs)\n",
    ">return type\n",
    "\n",
    "The function signatur serves as a contract, specifying how to\n",
    "call the function and what to expect from it.'''"
   ]
  },
  {
   "cell_type": "markdown",
   "metadata": {},
   "source": [
    "6.Create a Python function that takes two arguments and returns their product."
   ]
  },
  {
   "cell_type": "code",
   "execution_count": 187,
   "metadata": {},
   "outputs": [
    {
     "name": "stdout",
     "output_type": "stream",
     "text": [
      "12\n"
     ]
    }
   ],
   "source": [
    "def product(n1,n2):\n",
    "    return n1*n2\n",
    "print(product(2,6))"
   ]
  },
  {
   "cell_type": "markdown",
   "metadata": {},
   "source": [
    "Function Parameters and Arguments:\n",
    "\n",
    "1.Explain the concepts of formal parameters and actual arguments in Python functions."
   ]
  },
  {
   "cell_type": "code",
   "execution_count": 188,
   "metadata": {},
   "outputs": [
    {
     "name": "stdout",
     "output_type": "stream",
     "text": [
      "Hello, john! you are 30 years old.\n"
     ]
    }
   ],
   "source": [
    "'''Formal Parameters:\n",
    ">These are the names listed in the function definition's parameter\n",
    "list.\n",
    ">They are used within the function body to reference the inputs.\n",
    ">they are essentially placeholders for the actual values passed when\n",
    "the function is called.\n",
    "\n",
    "Actual Arguments:\n",
    ">These are the actual values passed to the function when it's called\n",
    ">They are assigned to the formal parameters within the function\n",
    ">They can be literals,variables,expressions, or even function calls'''\n",
    "#example:\n",
    "def greet(name,age): #Formal parameters: name and age\n",
    "    print(f\"Hello, {name}! you are {age} years old.\")\n",
    "greet(\"john\",30) #Actual arguments:\"john\" and 30\n",
    "\n",
    "\n"
   ]
  },
  {
   "cell_type": "markdown",
   "metadata": {},
   "source": [
    "2.Write a Python program that defines a function with default argument values."
   ]
  },
  {
   "cell_type": "code",
   "execution_count": 190,
   "metadata": {},
   "outputs": [
    {
     "name": "stdout",
     "output_type": "stream",
     "text": [
      "\n",
      "            Name : saurav\n",
      "            Age :23\n",
      "            City:pune\n",
      "            Course:Python\n",
      "        Institute Name : TKA\n"
     ]
    }
   ],
   "source": [
    "def student_details(name,age,city,course,inst_name = \"TKA\"):\n",
    "    return f'''\n",
    "            Name : {name}\n",
    "            Age :{age}\n",
    "            City:{city}\n",
    "            Course:{course}\n",
    "        Institute Name : {inst_name}'''\n",
    "print(student_details(\"saurav\",23,\"pune\",\"Python\"))"
   ]
  },
  {
   "cell_type": "markdown",
   "metadata": {},
   "source": [
    "3.How do you use keyword arguments in Python function calls? Provide an example."
   ]
  },
  {
   "cell_type": "code",
   "execution_count": 191,
   "metadata": {},
   "outputs": [
    {
     "name": "stdout",
     "output_type": "stream",
     "text": [
      "hi, saurav! you are 24 years old.\n"
     ]
    }
   ],
   "source": [
    "'''In Python,keyword arguments are used to pass arguments to a\n",
    "function using the parameter name rather than relying on the \n",
    "order of parameters. This makes the code more readable and flexible'''\n",
    "#example\n",
    "def greet(name,age,message):\n",
    "    print(f\"{message}, {name}! you are {age} years old.\")\n",
    "greet(name = \"saurav\",age =24,message=\"hi\")"
   ]
  },
  {
   "cell_type": "markdown",
   "metadata": {},
   "source": [
    "4.Create a Python function that accepts a variable number of arguments and calculates their sum."
   ]
  },
  {
   "cell_type": "code",
   "execution_count": 193,
   "metadata": {},
   "outputs": [
    {
     "name": "stdout",
     "output_type": "stream",
     "text": [
      "15\n"
     ]
    }
   ],
   "source": [
    "def sum(*numbers):\n",
    "    sum_numbers = 0\n",
    "    for num in numbers:\n",
    "        sum_numbers+=num\n",
    "    return sum_numbers\n",
    "print(sum(1,2,3,4,5))"
   ]
  },
  {
   "cell_type": "markdown",
   "metadata": {},
   "source": [
    "5.What is the purpose of the `*args` and `**kwargs` syntax in function parameter lists?"
   ]
  },
  {
   "cell_type": "code",
   "execution_count": 194,
   "metadata": {},
   "outputs": [
    {
     "name": "stdout",
     "output_type": "stream",
     "text": [
      "Positional arguments: (1, 2, 3)\n",
      "Keyword arguments: {'a': 4, 'b': 5}\n"
     ]
    }
   ],
   "source": [
    "'''In Python,*args and **kwargs are special syntaxes in function\n",
    "parameter lists that allow for flexible argument handling:\n",
    "  .*args\n",
    "  >It allows a function to accept a variable number of positional arguments(i.e.\n",
    "  arguments without keywords).\n",
    "  >args is a tuple containing all the positional arguments passed to the function\n",
    "  >It enables function to handle a varying number of inputs.\n",
    "  \n",
    "  .**kwargs\n",
    "  >It allows a function to accept a variable number of keyword arguments(i.e.\n",
    "  arguments with keywords).\n",
    "  >kwargs is a dictionary containing all the keyword arguments passed to the \n",
    "  function\n",
    "  >It enables function to handle a varying number of keyword inputs.'''\n",
    "#Exaample:\n",
    "def my_function(*args, **kwargs):\n",
    "    print(\"Positional arguments:\", args)\n",
    "    print(\"Keyword arguments:\", kwargs)\n",
    "\n",
    "my_function(1, 2, 3, a=4, b=5)"
   ]
  },
  {
   "cell_type": "markdown",
   "metadata": {},
   "source": [
    "Return Values and Scoping:\n",
    "\n",
    "Describe the role of the `return` statement in Python functions and provide examples.\n"
   ]
  },
  {
   "cell_type": "code",
   "execution_count": 195,
   "metadata": {},
   "outputs": [
    {
     "name": "stdout",
     "output_type": "stream",
     "text": [
      "8\n",
      "Hello, John!\n",
      "None\n"
     ]
    }
   ],
   "source": [
    "'''the return statement is used to specify the output value \n",
    "of a  function and terminate its execution. If no return statement \n",
    "is used, the function returns None by default'''\n",
    "#example:\n",
    "def add(a, b):\n",
    "    return a + b  # Returns the sum of a and b\n",
    "\n",
    "result = add(3, 5)\n",
    "print(result)  # Output: 8\n",
    "\n",
    "def greet(name):\n",
    "    return \"Hello, \" + name + \"!\"  # Returns a personalized greeting\n",
    "\n",
    "message = greet(\"John\")\n",
    "print(message)  # Output: Hello, John!\n",
    "\n",
    "def empty_function():\n",
    "    pass  # No return statement, returns None by default\n",
    "\n",
    "result = empty_function()\n",
    "print(result)  # Output: None\n"
   ]
  },
  {
   "cell_type": "markdown",
   "metadata": {},
   "source": [
    "2.Explain the concept of variable scope in Python, including local and global variables."
   ]
  },
  {
   "cell_type": "code",
   "execution_count": 197,
   "metadata": {},
   "outputs": [
    {
     "name": "stdout",
     "output_type": "stream",
     "text": [
      "30\n",
      "10\n"
     ]
    },
    {
     "ename": "NameError",
     "evalue": "name 'y' is not defined",
     "output_type": "error",
     "traceback": [
      "\u001b[1;31m---------------------------------------------------------------------------\u001b[0m",
      "\u001b[1;31mNameError\u001b[0m                                 Traceback (most recent call last)",
      "Cell \u001b[1;32mIn[197], line 36\u001b[0m\n\u001b[0;32m     34\u001b[0m outer()\n\u001b[0;32m     35\u001b[0m \u001b[38;5;28mprint\u001b[39m(x)  \u001b[38;5;66;03m# Output: 10\u001b[39;00m\n\u001b[1;32m---> 36\u001b[0m \u001b[38;5;28mprint\u001b[39m(\u001b[43my\u001b[49m)  \u001b[38;5;66;03m# Error: y is not defined (nonlocal variable)\u001b[39;00m\n\u001b[0;32m     37\u001b[0m \u001b[38;5;28mprint\u001b[39m(z)  \u001b[38;5;66;03m# Error: z is not defined (local variable)\u001b[39;00m\n",
      "\u001b[1;31mNameError\u001b[0m: name 'y' is not defined"
     ]
    }
   ],
   "source": [
    "'''In  Python , variable refers to the region of the code where\n",
    "a variable is defined and accessible.There are two types of variable\n",
    "scopes:\n",
    "\n",
    " 1.Local Scope:\n",
    " >Variables defined within function or a block(e.g.,if,for,while)are \n",
    " local to that scope.\n",
    " >They are only accessible within that function or block.\n",
    " >Local variables are created when the function is called \n",
    " and destroyed when the function returns.\n",
    " \n",
    " 2.Global Scope:\n",
    " >Variables defined outside of any function or block are global\n",
    " >They are accessible from anywhere in the code.\n",
    " >Global variables are created when the script starts and destroyed\n",
    " when the script ends.'''\n",
    "\n",
    "#Example:\n",
    "\n",
    "\n",
    "x = 10  # Global variable\n",
    "\n",
    "def outer():\n",
    "    y = 20  # Nonlocal variable\n",
    "\n",
    "    def inner():\n",
    "        nonlocal y\n",
    "        y = 30\n",
    "        z = 40  # Local variable\n",
    "\n",
    "    inner()\n",
    "    print(y)  # Output: 30\n",
    "\n",
    "outer()\n",
    "print(x)  # Output: 10\n",
    "print(y)  # Error: y is not defined (nonlocal variable)\n",
    "print(z)  # Error: z is not defined (local variable)"
   ]
  },
  {
   "cell_type": "markdown",
   "metadata": {},
   "source": [
    "3.Write a Python program that demonstrates the use of global variables within functions."
   ]
  },
  {
   "cell_type": "code",
   "execution_count": 201,
   "metadata": {},
   "outputs": [
    {
     "name": "stdout",
     "output_type": "stream",
     "text": [
      "Global variable x: 10\n",
      "Inside functions: 10\n"
     ]
    }
   ],
   "source": [
    "x =10\n",
    "def f1():\n",
    "    global x\n",
    "    x += 1\n",
    "    print(\"Inside functions:\",x)\n",
    "def print_x():\n",
    "    print(\"Global variable x:\",x)\n",
    "print_x()\n",
    "f1()\n",
    "\n"
   ]
  },
  {
   "cell_type": "markdown",
   "metadata": {},
   "source": [
    "4.Create a Python function that calculates the factorial of a number and returns it."
   ]
  },
  {
   "cell_type": "code",
   "execution_count": 202,
   "metadata": {},
   "outputs": [
    {
     "data": {
      "text/plain": [
       "120"
      ]
     },
     "execution_count": 202,
     "metadata": {},
     "output_type": "execute_result"
    }
   ],
   "source": [
    "def factorial(n):\n",
    "    fact = 1\n",
    "    for i in range(1,n+1):\n",
    "        fact *=i\n",
    "    return fact\n",
    "factorial(5)"
   ]
  },
  {
   "cell_type": "markdown",
   "metadata": {},
   "source": [
    "5.How can you access variables defined outside a function from within the function?"
   ]
  },
  {
   "cell_type": "code",
   "execution_count": 204,
   "metadata": {},
   "outputs": [
    {
     "name": "stdout",
     "output_type": "stream",
     "text": [
      "Inside inner function: 11 21\n",
      "Inside inner function: 11 21\n",
      "Global scope: 11\n"
     ]
    }
   ],
   "source": [
    "x=10\n",
    "def outer():\n",
    "    y=20 #nonlocal variable\n",
    "    def inner():\n",
    "        nonlocal y\n",
    "        y+=1\n",
    "        global x\n",
    "        x+=1\n",
    "        print(\"Inside inner function:\",x,y)\n",
    "    inner()\n",
    "    print(\"Inside inner function:\",x,y)\n",
    "outer()\n",
    "print(\"Global scope:\",x)"
   ]
  },
  {
   "cell_type": "markdown",
   "metadata": {},
   "source": [
    "Lambda Functions and Higher-Order Functions:\n",
    "\n",
    "1.What are lambda functions in Python, and when are they typically used?\n"
   ]
  },
  {
   "cell_type": "code",
   "execution_count": 205,
   "metadata": {},
   "outputs": [
    {
     "data": {
      "text/plain": [
       "'Lambda functions are small,anonymous functions defined with \\nthe lambda keyword. They can take any number of arguments but can\\nonly have one expression.They are used to define short,concise function\\n\\nWhen are lambda functions typically used?\\n\\n1.As event handllers:\\nwhen a small,one-time-use function is needed\\n2.As arguments to higher-order functions:\\nFunctions that take other functions as arguments or return functions\\nas output.\\n3.For data processing:\\nWhen working with data structures like lists,dictionaries,or datasets.\\n4.For quick prototyping:\\nWhen you need a simple function without declaring a named function.'"
      ]
     },
     "execution_count": 205,
     "metadata": {},
     "output_type": "execute_result"
    }
   ],
   "source": [
    "'''Lambda functions are small,anonymous functions defined with \n",
    "the lambda keyword. They can take any number of arguments but can\n",
    "only have one expression.They are used to define short,concise function\n",
    "\n",
    "When are lambda functions typically used?\n",
    "\n",
    "1.As event handllers:\n",
    "when a small,one-time-use function is needed\n",
    "2.As arguments to higher-order functions:\n",
    "Functions that take other functions as arguments or return functions\n",
    "as output.\n",
    "3.For data processing:\n",
    "When working with data structures like lists,dictionaries,or datasets.\n",
    "4.For quick prototyping:\n",
    "When you need a simple function without declaring a named function.'''"
   ]
  },
  {
   "cell_type": "markdown",
   "metadata": {},
   "source": [
    "2.Write a Python program that uses lambda functions to sort a list of tuples based on the second element."
   ]
  },
  {
   "cell_type": "code",
   "execution_count": 208,
   "metadata": {},
   "outputs": [
    {
     "name": "stdout",
     "output_type": "stream",
     "text": [
      "[(1, 2), (3, 1), (4, 3), (2, 4)]\n",
      "[(3, 1), (1, 2), (4, 3), (2, 4)]\n"
     ]
    }
   ],
   "source": [
    "tuples_lst = [(1,2),(3,1),(4,3),(2,4)]\n",
    "sorted_lst = sorted(tuples_lst,key = lambda x:x[1])\n",
    "print(tuples_lst)\n",
    "print(sorted_lst)"
   ]
  },
  {
   "cell_type": "markdown",
   "metadata": {},
   "source": [
    "3.Explain the concept of higher-order functions in Python, and provide an example."
   ]
  },
  {
   "cell_type": "code",
   "execution_count": 209,
   "metadata": {},
   "outputs": [
    {
     "name": "stdout",
     "output_type": "stream",
     "text": [
      "12\n"
     ]
    }
   ],
   "source": [
    "'''In python, a higher-order function is a function that\n",
    "1.takes another function as an argument\n",
    "2.returns a function as output'''\n",
    "#Example:\n",
    "def twice(func):\n",
    "    def wrapper(x):\n",
    "        return func(x)*2\n",
    "    return wrapper\n",
    "def add_one(x):\n",
    "    return x+1\n",
    "\n",
    "twice_add_one = twice(add_one)\n",
    "print(twice_add_one(5))"
   ]
  },
  {
   "cell_type": "markdown",
   "metadata": {},
   "source": [
    "4.Create a Python function that takes a list of numbers and a function as arguments, applying the function to each element in the list."
   ]
  },
  {
   "cell_type": "code",
   "execution_count": 211,
   "metadata": {},
   "outputs": [
    {
     "name": "stdout",
     "output_type": "stream",
     "text": [
      "[1, 4, 9, 16, 25]\n"
     ]
    }
   ],
   "source": [
    "def apply_function(func,numbers):\n",
    "    return [func(num) for num in numbers]\n",
    "\n",
    "def square(x):\n",
    "    return x**2\n",
    "numbers = [1,2,3,4,5]\n",
    "result = apply_function(square,numbers)\n",
    "print(result)"
   ]
  },
  {
   "cell_type": "markdown",
   "metadata": {},
   "source": [
    "Built-in Functions:\n",
    "\n",
    "1.Describe the role of built-in functions like `len()`, `max()`, and `min()` in Python.\n"
   ]
  },
  {
   "cell_type": "code",
   "execution_count": 212,
   "metadata": {},
   "outputs": [
    {
     "name": "stdout",
     "output_type": "stream",
     "text": [
      "5\n",
      "5\n",
      "1\n"
     ]
    }
   ],
   "source": [
    "'''The role of built-in functions like len(),max() and min()\n",
    "\n",
    "1.len():\n",
    " >Returns the number of items in an object(eg.list,tuple,string,dictionary).\n",
    " >It helps determine the size of a data structure.\n",
    "\n",
    "2.max():\n",
    " >Returns the largest item in an iterable(e.g.,list,tuple) or the\n",
    " largest of two or more arguments.\n",
    " >It helps to find the maximum value in a dataset.\n",
    " \n",
    "3.min():\n",
    " >Returns the smallest item in an iterable(e.g.,list,tuple) or\n",
    " the smallest of two or more arguments.\n",
    " >It helps to find the minimum value in a dataset'''\n",
    "#Example:\n",
    "numbers = [1,2,3,4,5]\n",
    "print(len(numbers))\n",
    "print(max(numbers))\n",
    "print(min(numbers))"
   ]
  },
  {
   "cell_type": "markdown",
   "metadata": {},
   "source": [
    "2.Write a Python program that uses the `map()` function to apply a function to each element of a list."
   ]
  },
  {
   "cell_type": "code",
   "execution_count": 213,
   "metadata": {},
   "outputs": [
    {
     "name": "stdout",
     "output_type": "stream",
     "text": [
      "[1, 4, 9, 16, 25]\n"
     ]
    }
   ],
   "source": [
    "numbers = [1,2,3,4,5]\n",
    "squared_number = list(map(lambda x:x**2,numbers))\n",
    "print(squared_number)"
   ]
  },
  {
   "cell_type": "markdown",
   "metadata": {},
   "source": [
    "3.How does the `filter()` function work in Python, and when would you use it?"
   ]
  },
  {
   "cell_type": "code",
   "execution_count": 214,
   "metadata": {},
   "outputs": [
    {
     "name": "stdout",
     "output_type": "stream",
     "text": [
      "[2, 4, 6]\n"
     ]
    }
   ],
   "source": [
    "'''The filter() function in python is used to filter elements from an iterable\n",
    "(like a list or tuple) based on a condition. it takes two arguments:\n",
    "\n",
    "1.A function that defines the filtering condition(called the \"predicate\" function)\n",
    "2.The iterable to be filtered\n",
    "3.It returns an iterator\n",
    "\n",
    "How it works:\n",
    " >The predicate function is called for each element in the iterable\n",
    " >If the predicate function returns True for an element,it is included \n",
    " in the filtered result.\n",
    " >If the predicate function returns False for an element,it's excluded \n",
    " from the filtered result.\n",
    " \n",
    "When to use filter():\n",
    " >Data cleaning:Remove unwanted data points or outliers from a dataset.\n",
    " >Data processing:Extract specific data points that meet certain conditions.\n",
    " >Validation: Check if all elements in an iterable meet a certain condition.'''\n",
    "#example:\n",
    "\n",
    "numbers = [1,2,3,4,5,6]\n",
    "even_numbers = list(filter(lambda x:x%2==0,numbers))\n",
    "print(even_numbers)"
   ]
  },
  {
   "cell_type": "markdown",
   "metadata": {},
   "source": [
    "4.Create a Python program that uses the `reduce()` function to find the product of all elements in a list."
   ]
  },
  {
   "cell_type": "code",
   "execution_count": 215,
   "metadata": {},
   "outputs": [
    {
     "name": "stdout",
     "output_type": "stream",
     "text": [
      "720\n"
     ]
    }
   ],
   "source": [
    "numbers = [1,2,3,4,5,6]\n",
    "product = reduce(lambda x,y:x*y,numbers)\n",
    "print(product)"
   ]
  },
  {
   "cell_type": "markdown",
   "metadata": {},
   "source": [
    "Function Documentation and Best Practices:\n",
    "\n",
    "1.Explain the purpose of docstrings in Python functions and how to write them.\n"
   ]
  },
  {
   "cell_type": "code",
   "execution_count": 216,
   "metadata": {},
   "outputs": [],
   "source": [
    "'''Docstrings in python functions serve as documentation for \n",
    "the function,providing a description of what the function does,\n",
    "its parameters,return values,and any other relevant information.\n",
    "The purpose of docstring is to:\n",
    "\n",
    ">Document the function's behaviour:\n",
    "  Explain what the function does,its purpose and how it works\n",
    ">Provide usage information:\n",
    "  Describe the function's parameters,their types,and any default\n",
    "  values.\n",
    ">Specify return values:\n",
    "  Explain what the function returns,including the type and any \n",
    "  possible exceptions.\n",
    ">Enhance code readability:\n",
    "  Make the code more understandable for others(and yourself!) by providing\n",
    "  context.\n",
    "  \n",
    "To write a docstring in Python:\n",
    ">Use triple quotes:\n",
    "  Enclose the docstring in the triple quotes(\"\"\") immediately\n",
    "  after the function definition.\n",
    ">Write a brief summary:\n",
    "  Start with a one-line summary of the function's purpose.\n",
    ">Describe parameters:\n",
    "  List each parameter,its type,and a brief description.\n",
    ">Specify return values:\n",
    "  Describe what the function returns,including type and exceptions.\n",
    ">Add additional information:\n",
    "  Include any additional details,such as examples,notes,or references.'''\n",
    "\n",
    "#Example:\n",
    "def greet(name: str) -> None:\n",
    "    \"\"\"\n",
    "    Prints a personalized greeting message.\n",
    "\n",
    "    Args:\n",
    "        name (str): The person's name.\n",
    "\n",
    "    Returns:\n",
    "        None\n",
    "\n",
    "    Example:\n",
    "        >>> greet(\"John\")\n",
    "        Hello, John!\n",
    "    \"\"\"\n",
    "    print(f\"Hello, {name}!\")\n"
   ]
  },
  {
   "cell_type": "markdown",
   "metadata": {},
   "source": [
    "2.Describe some best practices for naming functions and variables in Python, including naming conventions and guidelines."
   ]
  },
  {
   "cell_type": "code",
   "execution_count": 218,
   "metadata": {},
   "outputs": [
    {
     "data": {
      "text/plain": [
       "'the best practices for naming functions and variables in Python:\\n\\nNaming Conventions:\\n\\n- Use lowercase letters\\n- Use underscores to separate words\\n- Avoid single-letter names\\n\\nFunction Naming:\\n\\n- Be descriptive\\n- Use present tense\\n- Avoid ambiguous names\\n\\nVariable Naming:\\n\\n- Use nouns\\n- Be descriptive\\n- Avoid generic names\\n\\nAdditional Tips:\\n\\n- Be consistent\\n- Prioritize readability\\n- Avoid duplicates\\n- Follow PEP 8 guidelines'"
      ]
     },
     "execution_count": 218,
     "metadata": {},
     "output_type": "execute_result"
    }
   ],
   "source": [
    "'''the best practices for naming functions and variables in Python:\n",
    "\n",
    "Naming Conventions:\n",
    "\n",
    "- Use lowercase letters\n",
    "- Use underscores to separate words\n",
    "- Avoid single-letter names\n",
    "\n",
    "Function Naming:\n",
    "\n",
    "- Be descriptive\n",
    "- Use present tense\n",
    "- Avoid ambiguous names\n",
    "\n",
    "Variable Naming:\n",
    "\n",
    "- Use nouns\n",
    "- Be descriptive\n",
    "- Avoid generic names\n",
    "\n",
    "Additional Tips:\n",
    "\n",
    "- Be consistent\n",
    "- Prioritize readability\n",
    "- Avoid duplicates\n",
    "- Follow PEP 8 guidelines'''"
   ]
  },
  {
   "cell_type": "code",
   "execution_count": null,
   "metadata": {},
   "outputs": [],
   "source": []
  }
 ],
 "metadata": {
  "kernelspec": {
   "display_name": "Python 3",
   "language": "python",
   "name": "python3"
  },
  "language_info": {
   "codemirror_mode": {
    "name": "ipython",
    "version": 3
   },
   "file_extension": ".py",
   "mimetype": "text/x-python",
   "name": "python",
   "nbconvert_exporter": "python",
   "pygments_lexer": "ipython3",
   "version": "3.12.4"
  }
 },
 "nbformat": 4,
 "nbformat_minor": 2
}
